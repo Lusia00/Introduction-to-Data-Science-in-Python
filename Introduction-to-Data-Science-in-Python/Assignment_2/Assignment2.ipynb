{
 "cells": [
  {
   "cell_type": "markdown",
   "id": "98b9f925",
   "metadata": {},
   "source": [
    "# Assignment 2\n",
    "\n",
    "For this assignment I'm looking at 2017 data on immunizations from the CDC. Datafile for this assignment is in [assets/NISPUF17.csv](assets/NISPUF17.csv). A data users guide for this to map the variables in the data to the questions being asked is available at [assets/NIS-PUF17-DUG.pdf](assets/NIS-PUF17-DUG.pdf)."
   ]
  },
  {
   "cell_type": "markdown",
   "id": "e37050a8",
   "metadata": {},
   "source": [
    "## Question 1\n",
    "Write a function called `proportion_of_education` which returns the proportion of children in the dataset who had a mother with the education levels equal to less than high school (<12), high school (12), more than high school but not a college graduate (>12) and college degree.\n",
    "\n",
    "*This function should return a dictionary in the form of (use the correct numbers, do not round numbers):* \n",
    "```\n",
    "    {\"less than high school\":0.2,\n",
    "    \"high school\":0.4,\n",
    "    \"more than high school but not college\":0.2,\n",
    "    \"college\":0.2}\n",
    "```"
   ]
  },
  {
   "cell_type": "code",
   "execution_count": 1,
   "id": "14bbdcf1",
   "metadata": {},
   "outputs": [
    {
     "data": {
      "text/plain": [
       "{'less than high school': 0.10202360876897133,\n",
       " 'high school': 0.17235806632939854,\n",
       " 'more than high school but not college': 0.24588954468802698,\n",
       " 'college': 0.4797639123102867}"
      ]
     },
     "execution_count": 1,
     "metadata": {},
     "output_type": "execute_result"
    }
   ],
   "source": [
    "def proportion_of_education():\n",
    "    import pandas as pd\n",
    "    df = pd.read_csv('assets/NISPUF17.csv')\n",
    "    maska1 = df['EDUC1'] == 1\n",
    "    prop_less = (len(df['EDUC1'].where(maska1).dropna())) / 28464\n",
    "    \n",
    "    maska2 = df['EDUC1'] == 2\n",
    "    prop_hs = (len(df['EDUC1'].where(maska2).dropna())) / 28464\n",
    "    \n",
    "    maska3 = df['EDUC1'] == 3\n",
    "    prop_more = (len(df['EDUC1'].where(maska3).dropna())) / 28464\n",
    "    \n",
    "    maska4 = df['EDUC1'] == 4\n",
    "    prop_college = (len(df['EDUC1'].where(maska4).dropna())) / 28464\n",
    "    \n",
    "    dic = {\n",
    "    'less than high school': prop_less,\n",
    "    'high school': prop_hs,\n",
    "    'more than high school but not college': prop_more,\n",
    "    'college': prop_college\n",
    "    }\n",
    "    \n",
    "    return dic\n",
    "    raise NotImplementedError()\n",
    "\n",
    "proportion_of_education()"
   ]
  },
  {
   "cell_type": "markdown",
   "id": "f950007f",
   "metadata": {},
   "source": [
    "## Question 2\n",
    "\n",
    "Let's explore the relationship between being fed breastmilk as a child and getting a seasonal influenza vaccine from a healthcare provider. Return a tuple of the average number of influenza vaccines for those children we know received breastmilk as a child and those who know did not.\n",
    "\n",
    "*This function should return a tuple in the form (use the correct numbers):*\n",
    "```\n",
    "(2.5, 0.1)\n",
    "```"
   ]
  },
  {
   "cell_type": "code",
   "execution_count": 4,
   "id": "ca9a1891",
   "metadata": {},
   "outputs": [
    {
     "data": {
      "text/plain": [
       "(1.0298833518816206, 0.7804161566707466)"
      ]
     },
     "execution_count": 4,
     "metadata": {},
     "output_type": "execute_result"
    }
   ],
   "source": [
    "def average_influenza_doses():\n",
    "    import pandas as pd\n",
    "    import numpy as np\n",
    "    \n",
    "    df = pd.read_csv('assets/NISPUF17.csv')\n",
    "    \n",
    "    bfed = df['CBF_01'] == 1\n",
    "    brest_fed = df['CBF_01'].where(bfed).dropna()\n",
    "    \n",
    "    nobfed = df['CBF_01'] == 2\n",
    "    no_brest_fed = df['CBF_01'].where(nobfed).dropna()\n",
    "    \n",
    "    flu = df['P_NUMFLU'].notna()\n",
    "    doses = df['P_NUMFLU'].where(flu).dropna()\n",
    "    \n",
    "    brest_fed_doses = pd.merge(brest_fed.reset_index(), doses.reset_index(), on='index')\n",
    "    no_brest_fed_doses = pd.merge(no_brest_fed.reset_index(), doses.reset_index(), on='index')\n",
    "    \n",
    "    avg1 = np.sum(brest_fed_doses['P_NUMFLU']) / len(brest_fed)\n",
    "    avg2 = np.sum(no_brest_fed_doses['P_NUMFLU']) / len(no_brest_fed)\n",
    "    \n",
    "    tp = (avg1, avg2)\n",
    "    \n",
    "    return tp\n",
    "        \n",
    "    raise NotImplementedError()\n",
    "    \n",
    "average_influenza_doses()"
   ]
  },
  {
   "cell_type": "markdown",
   "id": "e6543383",
   "metadata": {},
   "source": [
    "## Question 3\n",
    "It would be interesting to see if there is any evidence of a link between vaccine effectiveness and sex of the child. Calculate the ratio of the number of children who contracted chickenpox but were vaccinated against it (at least one varicella dose) versus those who were vaccinated but did not contract chicken pox. Return results by sex. \n",
    "\n",
    "*This function should return a dictionary in the form of (use the correct numbers):* \n",
    "```\n",
    "    {\"male\":0.2,\n",
    "    \"female\":0.4}\n",
    "```\n",
    "\n",
    "Note: To aid in verification, the `chickenpox_by_sex()['female']` value the autograder is looking for starts with the digits `0.0077`."
   ]
  },
  {
   "cell_type": "code",
   "execution_count": 5,
   "id": "3ff78279",
   "metadata": {},
   "outputs": [
    {
     "data": {
      "text/plain": [
       "{'male': 0.009675583380762664, 'female': 0.0077918259335489565}"
      ]
     },
     "execution_count": 5,
     "metadata": {},
     "output_type": "execute_result"
    }
   ],
   "source": [
    "def chickenpox_by_sex():\n",
    "    import pandas as pd\n",
    "    df = pd.read_csv('assets/NISPUF17.csv')\n",
    "    \n",
    "    vaccinated = df['P_NUMVRC'] >= 1\n",
    "    had_cpox = df['HAD_CPOX'] == 1\n",
    "    not_cpox = df['HAD_CPOX'] == 2\n",
    "    \n",
    "    vaccinated_sd = df['P_NUMVRC'].where(vaccinated).dropna()\n",
    "    had_cpox_sd = df['HAD_CPOX'].where(had_cpox).dropna()\n",
    "    not_cpoxd_sd = df['HAD_CPOX'].where(not_cpox).dropna()\n",
    "    \n",
    "    had_and_vacc = pd.merge(vaccinated_sd.reset_index(), had_cpox_sd.reset_index(), on='index')\n",
    "    not_and_vacc = pd.merge(vaccinated_sd.reset_index(), not_cpoxd_sd.reset_index(), on='index')\n",
    "    \n",
    "    male = df['SEX'].where(df['SEX'] == 1).dropna()\n",
    "    female = df['SEX'].where(df['SEX'] == 2).dropna()\n",
    "    \n",
    "    had_and_vacc_male = pd.merge(had_and_vacc.reset_index(), male.reset_index(), on='index')\n",
    "    not_and_vacc_male = pd.merge(not_and_vacc.reset_index(), male.reset_index(), on='index')\n",
    "    \n",
    "    had_and_vacc_female = pd.merge(had_and_vacc.reset_index(), female.reset_index(), on='index')\n",
    "    not_and_vacc_female = pd.merge(not_and_vacc.reset_index(), female.reset_index(), on='index')\n",
    "    \n",
    "    ratio_male = len(had_and_vacc_male) / len(not_and_vacc_male)\n",
    "    ratio_female = len(had_and_vacc_female) / len(not_and_vacc_female)\n",
    "    \n",
    "    dicto = {\n",
    "    'male': ratio_male,\n",
    "    'female': ratio_female,\n",
    "    }\n",
    "    \n",
    "    return dicto\n",
    "    raise NotImplementedError()\n",
    "    \n",
    "chickenpox_by_sex()"
   ]
  },
  {
   "cell_type": "code",
   "execution_count": null,
   "id": "3a46611f",
   "metadata": {},
   "outputs": [],
   "source": []
  }
 ],
 "metadata": {
  "kernelspec": {
   "display_name": "Python 3 (ipykernel)",
   "language": "python",
   "name": "python3"
  },
  "language_info": {
   "codemirror_mode": {
    "name": "ipython",
    "version": 3
   },
   "file_extension": ".py",
   "mimetype": "text/x-python",
   "name": "python",
   "nbconvert_exporter": "python",
   "pygments_lexer": "ipython3",
   "version": "3.9.13"
  }
 },
 "nbformat": 4,
 "nbformat_minor": 5
}
